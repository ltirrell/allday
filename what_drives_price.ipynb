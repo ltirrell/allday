{
 "cells": [
  {
   "cell_type": "code",
   "execution_count": 1,
   "metadata": {},
   "outputs": [],
   "source": [
    "import statsmodels.api as sm\n",
    "import statsmodels.formula.api as smf\n",
    "\n",
    "\n",
    "from functools import partial\n",
    "\n",
    "import altair as alt\n",
    "import numpy as np\n",
    "import pandas as pd\n",
    "import streamlit as st\n",
    "from scipy.stats import ttest_ind"
   ]
  },
  {
   "cell_type": "code",
   "execution_count": 2,
   "metadata": {},
   "outputs": [],
   "source": [
    "def load_allday_data():\n",
    "    df = pd.read_csv(\"data/current_allday_data.csv.gz\")\n",
    "    datecols = [\"Datetime\", \"Date\"]\n",
    "    df[datecols] = df[datecols].apply(pd.to_datetime)\n",
    "    return df"
   ]
  },
  {
   "cell_type": "code",
   "execution_count": 3,
   "metadata": {},
   "outputs": [],
   "source": [
    "score_columns = [\n",
    "    \"Pass\",\n",
    "    \"Reception\",\n",
    "    \"Rush\",\n",
    "    \"Strip Sack\",\n",
    "    \"Interception\",\n",
    "    \"Fumble Recovery\",  # ~50% TD\n",
    "    \"Blocked Kick\",  # 1/4 not td\n",
    "    \"Punt Return\",  # all TD\n",
    "    \"Kick Return\",  # 1/6 not td\n",
    "]\n",
    "td_mapping = {\n",
    "    \"scored_td_in_moment\": \"Best Guess (Moment TD)\",\n",
    "    \"pbp_td\": \"Conservative (Moment TD)\",\n",
    "    \"description_td\": \"Description only (Moment TD)\",\n",
    "    \"scored_td_in_game\": \"Best Guess: (In-game TD)\",\n",
    "    \"game_td\": \"Conservative (In-game TD)\",\n",
    "}\n",
    "\n",
    "all_pos = [\"All\"]\n",
    "offense = [\n",
    "    \"QB\",\n",
    "    \"WR\",\n",
    "    \"RB\",\n",
    "    \"TE\",\n",
    "    \"OL\",\n",
    "]\n",
    "defense = [\n",
    "    \"DB\",\n",
    "    \"DL\",\n",
    "    \"LB\",\n",
    "]\n",
    "team_pos = [\"Team\"]\n",
    "pos_groups = [\"All\", \"Offense\", \"Defense\", \"Team\"]\n",
    "positions = all_pos + offense + defense + team_pos\n"
   ]
  },
  {
   "cell_type": "code",
   "execution_count": 4,
   "metadata": {},
   "outputs": [
    {
     "name": "stderr",
     "output_type": "stream",
     "text": [
      "/tmp/ipykernel_251224/2759006209.py:2: DtypeWarning: Columns (10,20,52,53) have mixed types. Specify dtype option on import or set low_memory=False.\n",
      "  df = pd.read_csv(\"data/current_allday_data.csv.gz\")\n"
     ]
    }
   ],
   "source": [
    "main_data = load_allday_data()"
   ]
  },
  {
   "cell_type": "code",
   "execution_count": 6,
   "metadata": {},
   "outputs": [],
   "source": [
    "score_data = main_data.copy()[main_data.Play_Type.isin(score_columns)].reset_index(\n",
    "    drop=True\n",
    ")\n",
    "score_data = score_data.rename(columns=td_mapping)"
   ]
  },
  {
   "cell_type": "code",
   "execution_count": 7,
   "metadata": {},
   "outputs": [],
   "source": [
    "date_range = \"All Time\"\n",
    "play_type = \"All\"\n",
    "how_scores = \"Best Guess (Moment TD)\"\n",
    "position_type = \"By Position\"\n",
    "metric = \"Both\"\n",
    "agg_metric = \"Average Sales Price ($)\""
   ]
  },
  {
   "cell_type": "code",
   "execution_count": 8,
   "metadata": {},
   "outputs": [],
   "source": [
    "if date_range == \"All Time\":\n",
    "    df = score_data.copy()\n",
    "elif date_range == \"2022 Full Season\":\n",
    "    df = score_data.copy()[main_data.Date >= \"2022-09-08\"]\n",
    "elif date_range == \"2022 Week 1\":\n",
    "    df = score_data.copy()[\n",
    "        (score_data.Date >= \"2022-09-08\") & (score_data.Date < \"2022-09-15\")\n",
    "    ]\n",
    "elif date_range == \"2022 Week 2\":\n",
    "    df = score_data.copy()[\n",
    "        (score_data.Date >= \"2022-09-15\") & (score_data.Date < \"2022-09-22\")\n",
    "    ]\n",
    "elif date_range == \"2022 Week 3\":\n",
    "    df = score_data.copy()[\n",
    "        (score_data.Date >= \"2022-09-22\") & (score_data.Date < \"2022-09-29\")\n",
    "    ]\n",
    "\n",
    "\n",
    "df[\"Scored Touchdown?\"] = df[how_scores]\n",
    "if play_type != \"All\":\n",
    "    df = df[df.Play_Type == play_type]"
   ]
  },
  {
   "cell_type": "code",
   "execution_count": 9,
   "metadata": {},
   "outputs": [],
   "source": [
    "def get_position_group(x):\n",
    "    if x in offense:\n",
    "        return \"Offense\"\n",
    "    if x in defense:\n",
    "        return \"Defense\"\n",
    "    if x in team_pos:\n",
    "        return \"Team\"\n",
    "\n",
    "\n",
    "df[\"Position Group\"] = df.Position.apply(get_position_group)\n"
   ]
  },
  {
   "cell_type": "code",
   "execution_count": 10,
   "metadata": {},
   "outputs": [],
   "source": [
    "full_model = 'Price ~ Q(\"Scored Touchdown?\") + won_game + Play_Type + Position + Rarity'\n",
    "full_model_group = 'Price ~ Q(\"Scored Touchdown?\") + won_game + Play_Type +  Q(\"Position Group\") + Rarity'\n",
    "\n",
    "md = smf.mixedlm(\n",
    "    full_model,\n",
    "    df,\n",
    "    groups=df[\"marketplace_id\"],\n",
    ")\n",
    "mdf = md.fit(method=[\"lbfgs\"])"
   ]
  },
  {
   "cell_type": "code",
   "execution_count": 11,
   "metadata": {},
   "outputs": [],
   "source": [
    "summary = mdf.summary()"
   ]
  },
  {
   "cell_type": "code",
   "execution_count": 12,
   "metadata": {},
   "outputs": [
    {
     "data": {
      "text/html": [
       "<table class=\"simpletable\">\n",
       "<tr>\n",
       "       <td>Model:</td>       <td>MixedLM</td> <td>Dependent Variable:</td>     <td>Price</td>    \n",
       "</tr>\n",
       "<tr>\n",
       "  <td>No. Observations:</td> <td>702995</td>        <td>Method:</td>           <td>REML</td>     \n",
       "</tr>\n",
       "<tr>\n",
       "     <td>No. Groups:</td>      <td>501</td>         <td>Scale:</td>          <td>5546.5105</td>  \n",
       "</tr>\n",
       "<tr>\n",
       "  <td>Min. group size:</td>     <td>2</td>      <td>Log-Likelihood:</td>   <td>-4030717.8955</td>\n",
       "</tr>\n",
       "<tr>\n",
       "  <td>Max. group size:</td>   <td>6003</td>       <td>Converged:</td>           <td>Yes</td>     \n",
       "</tr>\n",
       "<tr>\n",
       "  <td>Mean group size:</td>  <td>1403.2</td>           <td></td>                 <td></td>       \n",
       "</tr>\n",
       "</table>\n",
       "<table class=\"simpletable\">\n",
       "<tr>\n",
       "                 <td></td>                   <th>Coef.</th>    <th>Std.Err.</th>    <th>z</th>   <th>P>|z|</th>  <th>[0.025</th>    <th>0.975]</th> \n",
       "</tr>\n",
       "<tr>\n",
       "  <th>Intercept</th>                       <td>-296.522</td>    <td>831.225</td> <td>-0.357</td> <td>0.721</td> <td>-1925.692</td> <td>1332.649</td>\n",
       "</tr>\n",
       "<tr>\n",
       "  <th>Q(\"Scored Touchdown?\")[T.True]</th>   <td>-37.417</td>    <td>140.045</td> <td>-0.267</td> <td>0.789</td> <td>-311.900</td>   <td>237.067</td>\n",
       "</tr>\n",
       "<tr>\n",
       "  <th>won_game[T.True]</th>                 <td>-75.258</td>    <td>138.632</td> <td>-0.543</td> <td>0.587</td> <td>-346.971</td>   <td>196.455</td>\n",
       "</tr>\n",
       "<tr>\n",
       "  <th>Play_Type[T.Fumble Recovery]</th>    <td>-371.334</td>    <td>909.073</td> <td>-0.408</td> <td>0.683</td> <td>-2153.085</td> <td>1410.417</td>\n",
       "</tr>\n",
       "<tr>\n",
       "  <th>Play_Type[T.Interception]</th>       <td>-171.354</td>    <td>819.619</td> <td>-0.209</td> <td>0.834</td> <td>-1777.779</td> <td>1435.071</td>\n",
       "</tr>\n",
       "<tr>\n",
       "  <th>Play_Type[T.Kick Return]</th>        <td>-385.433</td>   <td>1097.140</td> <td>-0.351</td> <td>0.725</td> <td>-2535.788</td> <td>1764.921</td>\n",
       "</tr>\n",
       "<tr>\n",
       "  <th>Play_Type[T.Pass]</th>                <td>270.046</td>   <td>1003.663</td>  <td>0.269</td> <td>0.788</td> <td>-1697.096</td> <td>2237.189</td>\n",
       "</tr>\n",
       "<tr>\n",
       "  <th>Play_Type[T.Punt Return]</th>        <td>-438.271</td>   <td>1148.516</td> <td>-0.382</td> <td>0.703</td> <td>-2689.322</td> <td>1812.780</td>\n",
       "</tr>\n",
       "<tr>\n",
       "  <th>Play_Type[T.Reception]</th>           <td>93.709</td>     <td>999.932</td>  <td>0.094</td> <td>0.925</td> <td>-1866.122</td> <td>2053.539</td>\n",
       "</tr>\n",
       "<tr>\n",
       "  <th>Play_Type[T.Rush]</th>                <td>37.738</td>    <td>1011.898</td>  <td>0.037</td> <td>0.970</td> <td>-1945.546</td> <td>2021.021</td>\n",
       "</tr>\n",
       "<tr>\n",
       "  <th>Play_Type[T.Strip Sack]</th>          <td>318.937</td>    <td>863.595</td>  <td>0.369</td> <td>0.712</td> <td>-1373.678</td> <td>2011.551</td>\n",
       "</tr>\n",
       "<tr>\n",
       "  <th>Position[T.DL]</th>                  <td>-435.296</td>    <td>447.849</td> <td>-0.972</td> <td>0.331</td> <td>-1313.063</td>  <td>442.472</td>\n",
       "</tr>\n",
       "<tr>\n",
       "  <th>Position[T.LB]</th>                  <td>-181.474</td>    <td>347.943</td> <td>-0.522</td> <td>0.602</td> <td>-863.430</td>   <td>500.482</td>\n",
       "</tr>\n",
       "<tr>\n",
       "  <th>Position[T.OL]</th>                  <td>-259.667</td>   <td>1268.715</td> <td>-0.205</td> <td>0.838</td> <td>-2746.302</td> <td>2226.969</td>\n",
       "</tr>\n",
       "<tr>\n",
       "  <th>Position[T.QB]</th>                   <td>198.559</td>    <td>791.168</td>  <td>0.251</td> <td>0.802</td> <td>-1352.102</td> <td>1749.221</td>\n",
       "</tr>\n",
       "<tr>\n",
       "  <th>Position[T.RB]</th>                    <td>4.752</td>     <td>787.301</td>  <td>0.006</td> <td>0.995</td> <td>-1538.329</td> <td>1547.833</td>\n",
       "</tr>\n",
       "<tr>\n",
       "  <th>Position[T.TE]</th>                   <td>92.799</td>     <td>796.369</td>  <td>0.117</td> <td>0.907</td> <td>-1468.055</td> <td>1653.653</td>\n",
       "</tr>\n",
       "<tr>\n",
       "  <th>Position[T.Team]</th>                 <td>482.491</td>    <td>683.820</td>  <td>0.706</td> <td>0.480</td> <td>-857.772</td>  <td>1822.753</td>\n",
       "</tr>\n",
       "<tr>\n",
       "  <th>Position[T.WR]</th>                   <td>67.392</td>     <td>760.454</td>  <td>0.089</td> <td>0.929</td> <td>-1423.070</td> <td>1557.855</td>\n",
       "</tr>\n",
       "<tr>\n",
       "  <th>Rarity</th>                          <td>1129.823</td>    <td>96.428</td>  <td>11.717</td> <td>0.000</td>  <td>940.829</td>  <td>1318.818</td>\n",
       "</tr>\n",
       "<tr>\n",
       "  <th>Group Var</th>                      <td>2057174.905</td> <td>1549.959</td>    <td></td>      <td></td>        <td></td>          <td></td>    \n",
       "</tr>\n",
       "</table>"
      ],
      "text/plain": [
       "<class 'statsmodels.iolib.summary2.Summary'>\n",
       "\"\"\"\n",
       "                       Mixed Linear Model Regression Results\n",
       "===================================================================================\n",
       "Model:                    MixedLM         Dependent Variable:         Price        \n",
       "No. Observations:         702995          Method:                     REML         \n",
       "No. Groups:               501             Scale:                      5546.5105    \n",
       "Min. group size:          2               Log-Likelihood:             -4030717.8955\n",
       "Max. group size:          6003            Converged:                  Yes          \n",
       "Mean group size:          1403.2                                                   \n",
       "-----------------------------------------------------------------------------------\n",
       "                                  Coef.    Std.Err.   z    P>|z|   [0.025   0.975] \n",
       "-----------------------------------------------------------------------------------\n",
       "Intercept                         -296.522  831.225 -0.357 0.721 -1925.692 1332.649\n",
       "Q(\"Scored Touchdown?\")[T.True]     -37.417  140.045 -0.267 0.789  -311.900  237.067\n",
       "won_game[T.True]                   -75.258  138.632 -0.543 0.587  -346.971  196.455\n",
       "Play_Type[T.Fumble Recovery]      -371.334  909.073 -0.408 0.683 -2153.085 1410.417\n",
       "Play_Type[T.Interception]         -171.354  819.619 -0.209 0.834 -1777.779 1435.071\n",
       "Play_Type[T.Kick Return]          -385.433 1097.140 -0.351 0.725 -2535.788 1764.921\n",
       "Play_Type[T.Pass]                  270.046 1003.663  0.269 0.788 -1697.096 2237.189\n",
       "Play_Type[T.Punt Return]          -438.271 1148.516 -0.382 0.703 -2689.322 1812.780\n",
       "Play_Type[T.Reception]              93.709  999.932  0.094 0.925 -1866.122 2053.539\n",
       "Play_Type[T.Rush]                   37.738 1011.898  0.037 0.970 -1945.546 2021.021\n",
       "Play_Type[T.Strip Sack]            318.937  863.595  0.369 0.712 -1373.678 2011.551\n",
       "Position[T.DL]                    -435.296  447.849 -0.972 0.331 -1313.063  442.472\n",
       "Position[T.LB]                    -181.474  347.943 -0.522 0.602  -863.430  500.482\n",
       "Position[T.OL]                    -259.667 1268.715 -0.205 0.838 -2746.302 2226.969\n",
       "Position[T.QB]                     198.559  791.168  0.251 0.802 -1352.102 1749.221\n",
       "Position[T.RB]                       4.752  787.301  0.006 0.995 -1538.329 1547.833\n",
       "Position[T.TE]                      92.799  796.369  0.117 0.907 -1468.055 1653.653\n",
       "Position[T.Team]                   482.491  683.820  0.706 0.480  -857.772 1822.753\n",
       "Position[T.WR]                      67.392  760.454  0.089 0.929 -1423.070 1557.855\n",
       "Rarity                            1129.823   96.428 11.717 0.000   940.829 1318.818\n",
       "Group Var                      2057174.905 1549.959                                \n",
       "===================================================================================\n",
       "\n",
       "\"\"\""
      ]
     },
     "execution_count": 12,
     "metadata": {},
     "output_type": "execute_result"
    }
   ],
   "source": [
    "summary"
   ]
  },
  {
   "cell_type": "code",
   "execution_count": null,
   "metadata": {},
   "outputs": [],
   "source": []
  },
  {
   "cell_type": "code",
   "execution_count": null,
   "metadata": {},
   "outputs": [],
   "source": []
  },
  {
   "cell_type": "code",
   "execution_count": null,
   "metadata": {},
   "outputs": [],
   "source": []
  },
  {
   "cell_type": "code",
   "execution_count": 9,
   "metadata": {},
   "outputs": [
    {
     "ename": "",
     "evalue": "",
     "output_type": "error",
     "traceback": [
      "\u001b[1;31mCanceled future for execute_request message before replies were done"
     ]
    },
    {
     "ename": "",
     "evalue": "",
     "output_type": "error",
     "traceback": [
      "\u001b[1;31mThe Kernel crashed while executing code in the the current cell or a previous cell. Please review the code in the cell(s) to identify a possible cause of the failure. Click <a href='https://aka.ms/vscodeJupyterKernelCrash'>here</a> for more info. View Jupyter <a href='command:jupyter.viewOutput'>log</a> for further details."
     ]
    }
   ],
   "source": [
    "# Doesnt run...\n",
    "\n",
    "full_model_player = 'Price ~ Q(\"Scored Touchdown?\") + won_game + Play_Type + Position + Player + Rarity'\n",
    "full_model_group_player = 'Price ~ Q(\"Scored Touchdown?\") + won_game + Play_Type +  Q(\"Position Group\") + Player + Rarity'\n",
    "\n",
    "md_player = smf.mixedlm(\n",
    "    full_model_player,\n",
    "    df,\n",
    "    groups=df[\"marketplace_id\"],\n",
    ")\n",
    "mdf_player = md_player.fit(method=[\"lbfgs\"])\n",
    "\n",
    "summary_player = mdf_player.summary()\n",
    "summary_player"
   ]
  },
  {
   "cell_type": "code",
   "execution_count": null,
   "metadata": {},
   "outputs": [],
   "source": []
  },
  {
   "cell_type": "code",
   "execution_count": null,
   "metadata": {},
   "outputs": [],
   "source": []
  }
 ],
 "metadata": {
  "kernelspec": {
   "display_name": "Python 3.10.6 ('flow')",
   "language": "python",
   "name": "python3"
  },
  "language_info": {
   "codemirror_mode": {
    "name": "ipython",
    "version": 3
   },
   "file_extension": ".py",
   "mimetype": "text/x-python",
   "name": "python",
   "nbconvert_exporter": "python",
   "pygments_lexer": "ipython3",
   "version": "3.10.6"
  },
  "orig_nbformat": 4,
  "vscode": {
   "interpreter": {
    "hash": "75f3b21cef1b81cb363b1a1013aaaa027e5f8da64ed8ead98e49ce26b4dd78e9"
   }
  }
 },
 "nbformat": 4,
 "nbformat_minor": 2
}
